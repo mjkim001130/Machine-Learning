{
 "cells": [
  {
   "cell_type": "markdown",
   "id": "8f9e0e06",
   "metadata": {},
   "source": [
    "## Logistic Binary Classifier를 디자인하여 Logical AND 연산 출력"
   ]
  },
  {
   "cell_type": "code",
   "execution_count": 1,
   "id": "90bf810f",
   "metadata": {},
   "outputs": [],
   "source": [
    "import numpy as np\n",
    "import matplotlib.pyplot as plt"
   ]
  },
  {
   "cell_type": "code",
   "execution_count": 2,
   "id": "6bbc07d5",
   "metadata": {},
   "outputs": [],
   "source": [
    "X = np.array([[0, 0], [0, 1], [1, 0], [1, 1]])\n",
    "Y = np.array([[0], [0], [0], [1]])"
   ]
  },
  {
   "cell_type": "code",
   "execution_count": 3,
   "id": "25f0684c",
   "metadata": {},
   "outputs": [
    {
     "data": {
      "text/plain": [
       "array([[1., 0., 0.],\n",
       "       [1., 0., 1.],\n",
       "       [1., 1., 0.],\n",
       "       [1., 1., 1.]])"
      ]
     },
     "execution_count": 3,
     "metadata": {},
     "output_type": "execute_result"
    }
   ],
   "source": [
    "X_ = np.c_[np.ones(X.shape[0]), X]\n",
    "X_"
   ]
  },
  {
   "cell_type": "code",
   "execution_count": 4,
   "id": "6bdb2f1b",
   "metadata": {},
   "outputs": [],
   "source": [
    "# sigmoid 함수 \n",
    "\n",
    "def sigmoid(z):\n",
    "    return 1 / (1 + np.exp(-z))"
   ]
  },
  {
   "cell_type": "code",
   "execution_count": 5,
   "id": "58200083",
   "metadata": {},
   "outputs": [],
   "source": [
    "# cross entropy\n",
    "\n",
    "def cross_entropy(y, y_hat):\n",
    "    return -np.mean(y * np.log(y_hat) + (1-y) * np.log(1 - y_hat))\n"
   ]
  },
  {
   "cell_type": "code",
   "execution_count": 6,
   "id": "0e31bea2",
   "metadata": {},
   "outputs": [],
   "source": [
    "# logistic classifier\n",
    "\n",
    "def logistic_binary_classifier(x, theta):\n",
    "    z = x.dot(theta)\n",
    "    y_hat = sigmoid(z)\n",
    "    return (y_hat >= 0.5).astype(int)"
   ]
  },
  {
   "cell_type": "code",
   "execution_count": 10,
   "id": "df259de2",
   "metadata": {},
   "outputs": [],
   "source": [
    "(m, n) = X_.shape"
   ]
  },
  {
   "cell_type": "code",
   "execution_count": 11,
   "id": "adace62b",
   "metadata": {},
   "outputs": [],
   "source": [
    "eta = 0.1\n",
    "iterations = 1000\n",
    "theta = np.random.randn(n, 1)\n",
    "\n",
    "for _ in range(iterations):\n",
    "    z = X_.dot(theta)\n",
    "    y_hat = sigmoid(z)\n",
    "    loss = cross_entropy(Y, y_hat)\n",
    "    gradient = X_.T.dot(y_hat - Y)\n",
    "    theta -= eta * gradient"
   ]
  },
  {
   "cell_type": "code",
   "execution_count": 12,
   "id": "96c21b8f",
   "metadata": {},
   "outputs": [],
   "source": [
    "Y_pred = logistic_binary_classifier(X_, theta)"
   ]
  },
  {
   "cell_type": "code",
   "execution_count": 15,
   "id": "908c8b11",
   "metadata": {},
   "outputs": [
    {
     "data": {
      "image/png": "[encoded data removed]",
      "text/plain": [
       "<Figure size 600x500 with 1 Axes>"
      ]
     },
     "metadata": {},
     "output_type": "display_data"
    }
   ],
   "source": [
    "plt.figure(figsize=(6, 5))\n",
    "plt.scatter(X[:, 0], X[:, 1], c=Y_pred, cmap='viridis', s=100)\n",
    "for i, txt in enumerate(Y_pred):\n",
    "    plt.annotate(str(txt), (X[i, 0], X[i, 1]), textcoords=\"offset points\", xytext=(0,10), ha='center')\n",
    "plt.title('Predicted Results (AND Operation)')\n",
    "plt.xlabel('X1')\n",
    "plt.ylabel('X2')\n",
    "plt.grid(True)\n",
    "plt.show()"
   ]
  },
  {
   "cell_type": "code",
   "execution_count": null,
   "id": "b1bd89ac",
   "metadata": {},
   "outputs": [],
   "source": []
  }
 ],
 "metadata": {
  "kernelspec": {
   "display_name": "Python 3 (ipykernel)",
   "language": "python",
   "name": "python3"
  },
  "language_info": {
   "codemirror_mode": {
    "name": "ipython",
    "version": 3
   },
   "file_extension": ".py",
   "mimetype": "text/x-python",
   "name": "python",
   "nbconvert_exporter": "python",
   "pygments_lexer": "ipython3",
   "version": "3.11.5"
  }
 },
 "nbformat": 4,
 "nbformat_minor": 5
}

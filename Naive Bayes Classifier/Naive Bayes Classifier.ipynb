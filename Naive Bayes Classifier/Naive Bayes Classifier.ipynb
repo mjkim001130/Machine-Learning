{
 "cells": [
  {
   "cell_type": "code",
   "execution_count": 1,
   "metadata": {},
   "outputs": [],
   "source": [
    "import numpy as np\n",
    "import pandas as pd"
   ]
  },
  {
   "cell_type": "code",
   "execution_count": 2,
   "metadata": {},
   "outputs": [],
   "source": [
    "data = pd.read_csv('data.csv')"
   ]
  },
  {
   "cell_type": "code",
   "execution_count": 3,
   "metadata": {},
   "outputs": [
    {
     "data": {
      "text/html": [
       "<div>\n",
       "<style scoped>\n",
       "    .dataframe tbody tr th:only-of-type {\n",
       "        vertical-align: middle;\n",
       "    }\n",
       "\n",
       "    .dataframe tbody tr th {\n",
       "        vertical-align: top;\n",
       "    }\n",
       "\n",
       "    .dataframe thead th {\n",
       "        text-align: right;\n",
       "    }\n",
       "</style>\n",
       "<table border=\"1\" class=\"dataframe\">\n",
       "  <thead>\n",
       "    <tr style=\"text-align: right;\">\n",
       "      <th></th>\n",
       "      <th>Day</th>\n",
       "      <th>Outlook</th>\n",
       "      <th>Temperature</th>\n",
       "      <th>Humidity</th>\n",
       "      <th>Wind</th>\n",
       "      <th>Play Tennis</th>\n",
       "    </tr>\n",
       "  </thead>\n",
       "  <tbody>\n",
       "    <tr>\n",
       "      <th>0</th>\n",
       "      <td>1</td>\n",
       "      <td>Sunny</td>\n",
       "      <td>Hot</td>\n",
       "      <td>High</td>\n",
       "      <td>Weak</td>\n",
       "      <td>No</td>\n",
       "    </tr>\n",
       "    <tr>\n",
       "      <th>1</th>\n",
       "      <td>2</td>\n",
       "      <td>Sunny</td>\n",
       "      <td>Hot</td>\n",
       "      <td>High</td>\n",
       "      <td>Strong</td>\n",
       "      <td>No</td>\n",
       "    </tr>\n",
       "    <tr>\n",
       "      <th>2</th>\n",
       "      <td>3</td>\n",
       "      <td>Overcast</td>\n",
       "      <td>Hot</td>\n",
       "      <td>High</td>\n",
       "      <td>Weak</td>\n",
       "      <td>Yes</td>\n",
       "    </tr>\n",
       "    <tr>\n",
       "      <th>3</th>\n",
       "      <td>4</td>\n",
       "      <td>Rain</td>\n",
       "      <td>Mild</td>\n",
       "      <td>High</td>\n",
       "      <td>Weak</td>\n",
       "      <td>Yes</td>\n",
       "    </tr>\n",
       "    <tr>\n",
       "      <th>4</th>\n",
       "      <td>5</td>\n",
       "      <td>Rain</td>\n",
       "      <td>Cool</td>\n",
       "      <td>Normal</td>\n",
       "      <td>Weak</td>\n",
       "      <td>Yes</td>\n",
       "    </tr>\n",
       "    <tr>\n",
       "      <th>5</th>\n",
       "      <td>6</td>\n",
       "      <td>Rain</td>\n",
       "      <td>Cool</td>\n",
       "      <td>Normal</td>\n",
       "      <td>Strong</td>\n",
       "      <td>No</td>\n",
       "    </tr>\n",
       "    <tr>\n",
       "      <th>6</th>\n",
       "      <td>7</td>\n",
       "      <td>Overcast</td>\n",
       "      <td>Cool</td>\n",
       "      <td>Normal</td>\n",
       "      <td>Strong</td>\n",
       "      <td>Yes</td>\n",
       "    </tr>\n",
       "    <tr>\n",
       "      <th>7</th>\n",
       "      <td>8</td>\n",
       "      <td>Sunny</td>\n",
       "      <td>Mild</td>\n",
       "      <td>High</td>\n",
       "      <td>Weak</td>\n",
       "      <td>No</td>\n",
       "    </tr>\n",
       "    <tr>\n",
       "      <th>8</th>\n",
       "      <td>9</td>\n",
       "      <td>Sunny</td>\n",
       "      <td>Cool</td>\n",
       "      <td>Normal</td>\n",
       "      <td>Weak</td>\n",
       "      <td>Yes</td>\n",
       "    </tr>\n",
       "    <tr>\n",
       "      <th>9</th>\n",
       "      <td>10</td>\n",
       "      <td>Rain</td>\n",
       "      <td>Mild</td>\n",
       "      <td>Normal</td>\n",
       "      <td>Weak</td>\n",
       "      <td>Yes</td>\n",
       "    </tr>\n",
       "    <tr>\n",
       "      <th>10</th>\n",
       "      <td>11</td>\n",
       "      <td>Sunny</td>\n",
       "      <td>Mild</td>\n",
       "      <td>Normal</td>\n",
       "      <td>Strong</td>\n",
       "      <td>Yes</td>\n",
       "    </tr>\n",
       "    <tr>\n",
       "      <th>11</th>\n",
       "      <td>12</td>\n",
       "      <td>Overcast</td>\n",
       "      <td>Mild</td>\n",
       "      <td>High</td>\n",
       "      <td>Strong</td>\n",
       "      <td>Yes</td>\n",
       "    </tr>\n",
       "    <tr>\n",
       "      <th>12</th>\n",
       "      <td>13</td>\n",
       "      <td>Overcast</td>\n",
       "      <td>Hot</td>\n",
       "      <td>Normal</td>\n",
       "      <td>Weak</td>\n",
       "      <td>Yes</td>\n",
       "    </tr>\n",
       "    <tr>\n",
       "      <th>13</th>\n",
       "      <td>14</td>\n",
       "      <td>Rain</td>\n",
       "      <td>Mild</td>\n",
       "      <td>High</td>\n",
       "      <td>Strong</td>\n",
       "      <td>No</td>\n",
       "    </tr>\n",
       "  </tbody>\n",
       "</table>\n",
       "</div>"
      ],
      "text/plain": [
       "    Day   Outlook Temperature Humidity    Wind Play Tennis\n",
       "0     1     Sunny         Hot     High    Weak          No\n",
       "1     2     Sunny         Hot     High  Strong          No\n",
       "2     3  Overcast         Hot     High    Weak         Yes\n",
       "3     4      Rain        Mild     High    Weak         Yes\n",
       "4     5      Rain        Cool   Normal    Weak         Yes\n",
       "5     6      Rain        Cool   Normal  Strong          No\n",
       "6     7  Overcast        Cool   Normal  Strong         Yes\n",
       "7     8     Sunny        Mild     High    Weak          No\n",
       "8     9     Sunny        Cool   Normal    Weak         Yes\n",
       "9    10      Rain        Mild   Normal    Weak         Yes\n",
       "10   11     Sunny        Mild   Normal  Strong         Yes\n",
       "11   12  Overcast        Mild     High  Strong         Yes\n",
       "12   13  Overcast         Hot   Normal    Weak         Yes\n",
       "13   14      Rain        Mild     High  Strong          No"
      ]
     },
     "execution_count": 3,
     "metadata": {},
     "output_type": "execute_result"
    }
   ],
   "source": [
    "data"
   ]
  },
  {
   "cell_type": "markdown",
   "metadata": {},
   "source": [
    "### Naive Bayes Classifier\n",
    "\n",
    "$v_{NB} = \\underset{v_j\\in V}{\\text{argmax }}P(v_j)\\prod_i P(a_i|v_j)$"
   ]
  },
  {
   "cell_type": "markdown",
   "metadata": {},
   "source": [
    "위에서 $v_{NB}$는 다음처럼 구할 수 있다.\n",
    "\n",
    "$$\n",
    "\\begin{aligned}\n",
    "v_{NB} = &\\underset{v_j\\in\\left \\{ yes, no \\right \\}}{\\text{argmax }}P(v_j)\\prod_i P(a_i|v_j)\\\\\n",
    "= &\\underset{v_j\\in\\left \\{ yes, no \\right \\}}{\\text{argmax }}P(v_j) \\cdot P(\\text{Outlook=sunny}|v_j)\\cdot P(\\text{Temperature=cool}|v_j) \\\\\n",
    " \\cdot &P(\\text{Humidity=high}|v_j) \\cdot P(\\text{Wind=strong}|v_j)\n",
    "\\end{aligned}\n",
    "$$"
   ]
  },
  {
   "cell_type": "markdown",
   "metadata": {},
   "source": [
    "그리고 $p(v_j)$는 data를 통해 확인할 수 있다."
   ]
  },
  {
   "cell_type": "code",
   "execution_count": 9,
   "metadata": {},
   "outputs": [
    {
     "data": {
      "text/plain": [
       "(0.64, 0.36)"
      ]
     },
     "execution_count": 9,
     "metadata": {},
     "output_type": "execute_result"
    }
   ],
   "source": [
    "play_tennis_prob = data['Play Tennis'].value_counts(normalize=True)\n",
    "\n",
    "play_tennis_yes = np.round(play_tennis_prob['Yes'], 2)\n",
    "play_tennis_no = np.round(play_tennis_prob['No'], 2)\n",
    "\n",
    "play_tennis_yes, play_tennis_no\n"
   ]
  },
  {
   "cell_type": "markdown",
   "metadata": {},
   "source": [
    "이제 새로운 instance에 대해 확률 계산 (overcast의 경우, no인 경우가 없어서 제외해줘야함)"
   ]
  },
  {
   "cell_type": "code",
   "execution_count": 17,
   "metadata": {},
   "outputs": [],
   "source": [
    "prob_sunny_given_yes = data['Outlook'][data['Play Tennis'] == 'Yes'].value_counts(normalize=True)['Sunny']\n",
    "prob_sunny_given_no = data['Outlook'][data['Play Tennis'] == 'No'].value_counts(normalize=True)['Sunny']\n",
    "prob_overcast_given_yes = data['Outlook'][data['Play Tennis'] == 'Yes'].value_counts(normalize=True)['Overcast']\n",
    "prob_rain_given_yes = data['Outlook'][data['Play Tennis'] == 'Yes'].value_counts(normalize=True)['Rain']\n",
    "prob_rain_given_no = data['Outlook'][data['Play Tennis'] == 'No'].value_counts(normalize=True)['Rain']\n",
    "prob_hot_given_yes = data['Temperature'][data['Play Tennis'] == 'Yes'].value_counts(normalize=True)['Hot']\n",
    "prob_hot_given_no = data['Temperature'][data['Play Tennis'] == 'No'].value_counts(normalize=True)['Hot']\n",
    "prob_mild_given_yes = data['Temperature'][data['Play Tennis'] == 'Yes'].value_counts(normalize=True)['Mild']\n",
    "prob_mild_given_no = data['Temperature'][data['Play Tennis'] == 'No'].value_counts(normalize=True)['Mild']\n",
    "prob_cool_given_yes = data['Temperature'][data['Play Tennis'] == 'Yes'].value_counts(normalize=True)['Cool']\n",
    "prob_cool_given_no = data['Temperature'][data['Play Tennis'] == 'No'].value_counts(normalize=True)['Cool']\n",
    "prob_high_given_yes = data['Humidity'][data['Play Tennis'] == 'Yes'].value_counts(normalize=True)['High']\n",
    "prob_high_given_no = data['Humidity'][data['Play Tennis'] == 'No'].value_counts(normalize=True)['High']\n",
    "prob_normal_given_yes = data['Humidity'][data['Play Tennis'] == 'Yes'].value_counts(normalize=True)['Normal']\n",
    "prob_normal_given_no = data['Humidity'][data['Play Tennis'] == 'No'].value_counts(normalize=True)['Normal']\n",
    "prob_strongwind_given_yes = data['Wind'][data['Play Tennis'] == 'Yes'].value_counts(normalize=True)['Strong']\n",
    "prob_strongwind_given_no = data['Wind'][data['Play Tennis'] == 'No'].value_counts(normalize=True)['Strong']\n",
    "prob_weakwind_given_yes = data['Wind'][data['Play Tennis'] == 'Yes'].value_counts(normalize=True)['Weak']\n",
    "prob_weakwind_given_no = data['Wind'][data['Play Tennis'] == 'No'].value_counts(normalize=True)['Weak']\n"
   ]
  },
  {
   "cell_type": "markdown",
   "metadata": {},
   "source": [
    "우리가 구할것 : <outlook=sunny, temperature=cool, humidity=high, wind=strong> 이때, 과연 테니스를 플레이할것인가?"
   ]
  },
  {
   "cell_type": "markdown",
   "metadata": {},
   "source": [
    "이제 위에서 모두 구한 확률을 단순히 곱해주기만 하면된다."
   ]
  },
  {
   "cell_type": "markdown",
   "metadata": {},
   "source": [
    "$$\n",
    "P(\\text{yes})P(\\text{sunny}|\\text{yes})P(\\text{cool}|\\text{yes})P(\\text{high}|\\text{yes})P(\\text{strong}|\\text{yes})\n",
    "$$"
   ]
  },
  {
   "cell_type": "markdown",
   "metadata": {},
   "source": [
    "$$\n",
    "P(\\text{no})P(\\text{sunny}|\\text{no})P(\\text{cool}|\\text{no})P(\\text{high}|\\text{no})P(\\text{strong}|\\text{no})\n",
    "$$"
   ]
  },
  {
   "cell_type": "code",
   "execution_count": 19,
   "metadata": {},
   "outputs": [
    {
     "data": {
      "text/plain": [
       "(0.005267489711934155, 0.020736)"
      ]
     },
     "execution_count": 19,
     "metadata": {},
     "output_type": "execute_result"
    }
   ],
   "source": [
    "Yes_prob = play_tennis_yes * prob_sunny_given_yes * prob_cool_given_yes * prob_high_given_yes * prob_strongwind_given_yes   \n",
    "No_prob = play_tennis_no * prob_sunny_given_no * prob_cool_given_no *prob_high_given_no * prob_strongwind_given_no\n",
    "\n",
    "Yes_prob, No_prob"
   ]
  },
  {
   "cell_type": "markdown",
   "metadata": {},
   "source": [
    "No의 확률이 더 높으므로 우리는 No!라고 생각할 수 있다."
   ]
  },
  {
   "cell_type": "markdown",
   "metadata": {},
   "source": []
  }
 ],
 "metadata": {
  "kernelspec": {
   "display_name": "Python 3",
   "language": "python",
   "name": "python3"
  },
  "language_info": {
   "codemirror_mode": {
    "name": "ipython",
    "version": 3
   },
   "file_extension": ".py",
   "mimetype": "text/x-python",
   "name": "python",
   "nbconvert_exporter": "python",
   "pygments_lexer": "ipython3",
   "version": "3.9.5"
  }
 },
 "nbformat": 4,
 "nbformat_minor": 2
}

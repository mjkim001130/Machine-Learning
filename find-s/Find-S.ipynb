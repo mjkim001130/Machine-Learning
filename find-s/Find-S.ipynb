{
 "cells": [
  {
   "cell_type": "code",
   "execution_count": 1,
   "id": "dd4ff425",
   "metadata": {},
   "outputs": [],
   "source": [
    "import numpy as np"
   ]
  },
  {
   "cell_type": "code",
   "execution_count": 4,
   "id": "710d6e30",
   "metadata": {},
   "outputs": [],
   "source": [
    "dtype = [('features', 'O'), ('label', 'U1')]\n",
    "data = np.array([\n",
    "    (['sunny', 'warm', 'normal', 'strong', 'warm', 'same'], '+'),\n",
    "    (['sunny', 'warm', 'high', 'strong', 'warm', 'same'], '+'),\n",
    "    (['rainy', 'cold', 'high', 'strong', 'warm', 'change'], '-'),\n",
    "    (['sunny', 'warm', 'high', 'strong', 'cool', 'change'], '+')\n",
    "], dtype=dtype)"
   ]
  },
  {
   "cell_type": "code",
   "execution_count": 5,
   "id": "1fdcb8c9",
   "metadata": {},
   "outputs": [],
   "source": [
    "h0 = ['∅', '∅', '∅', '∅', '∅', '∅']"
   ]
  },
  {
   "cell_type": "code",
   "execution_count": 6,
   "id": "cfd9b55e",
   "metadata": {},
   "outputs": [
    {
     "name": "stdout",
     "output_type": "stream",
     "text": [
      "h0 = ['∅', '∅', '∅', '∅', '∅', '∅']\n",
      "h1 = ['sunny', 'warm', 'normal', 'strong', 'warm', 'same']\n",
      "h2 = ['sunny', 'warm', '?', 'strong', 'warm', 'same']\n",
      "h3 = ['sunny', 'warm', '?', 'strong', 'warm', 'same']\n",
      "h4 = ['sunny', 'warm', '?', 'strong', '?', '?']\n"
     ]
    }
   ],
   "source": [
    "step = 0\n",
    "for sample, target in data:\n",
    "    print(f\"h{step} = {h0}\")\n",
    "    if target == '+':\n",
    "        for i in range(len(sample)):\n",
    "            if h0[i] == '∅':  \n",
    "                h0[i] = sample[i]\n",
    "            elif h0[i] != sample[i]:  \n",
    "                h0[i] = '?'\n",
    "    step += 1\n",
    "print(f\"h{step} = {h0}\")"
   ]
  },
  {
   "cell_type": "code",
   "execution_count": null,
   "id": "58dd8fad",
   "metadata": {},
   "outputs": [],
   "source": []
  }
 ],
 "metadata": {
  "kernelspec": {
   "display_name": "Python 3 (ipykernel)",
   "language": "python",
   "name": "python3"
  },
  "language_info": {
   "codemirror_mode": {
    "name": "ipython",
    "version": 3
   },
   "file_extension": ".py",
   "mimetype": "text/x-python",
   "name": "python",
   "nbconvert_exporter": "python",
   "pygments_lexer": "ipython3",
   "version": "3.11.5"
  }
 },
 "nbformat": 4,
 "nbformat_minor": 5
}

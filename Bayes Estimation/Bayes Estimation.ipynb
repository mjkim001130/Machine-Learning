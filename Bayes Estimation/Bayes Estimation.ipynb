{
 "cells": [
  {
   "cell_type": "markdown",
   "metadata": {},
   "source": [
    "## HMM 예제 "
   ]
  },
  {
   "cell_type": "markdown",
   "metadata": {},
   "source": [
    "문이 하나 존재하고, 문의 상태를 $X$, 센서의 관측을 $Z$라 하면 \n",
    "\n",
    "$$X = \\left \\{  \\text{open , closed}\\right \\} \\qquad Z = \\left \\{  \\text{sensor{\\_}open , sensor{\\_}closed}\\right \\}\n",
    "$$"
   ]
  },
  {
   "cell_type": "markdown",
   "metadata": {},
   "source": [
    "문은 외력이 작용하지 않는다고 하고, 센서의 성능은 다음과 같다고 하자.\n",
    "\n",
    "$$\n",
    "\\begin{aligned}\n",
    "&p(\\text{sensor{\\_}open} | \\text{open}) = 0.7,  \\;\\; p(\\text{sensor{\\_}open} | \\text{closed}) = 0.2 \\\\\n",
    "&p(\\text{sensor{\\_}closed} | \\text{open}) =0.3 \\;\\ \\;\n",
    "p(\\text{sensor{\\_}closed} | \\text{closed}) = 0.8\n",
    "\\end{aligned}"
   ]
  },
  {
   "cell_type": "markdown",
   "metadata": {},
   "source": [
    "초기 상태를 모르므로 $P(\\text{open}), \\; p(\\text{closed}) = 0.5$"
   ]
  },
  {
   "cell_type": "markdown",
   "metadata": {},
   "source": [
    "우리가 알고싶은것은 센서를 통해 문이 열려있다고 한번 관측했을때, 문이 열려있을 확률을 구해보자"
   ]
  },
  {
   "cell_type": "code",
   "execution_count": 1,
   "metadata": {},
   "outputs": [],
   "source": [
    "import numpy as np"
   ]
  },
  {
   "cell_type": "code",
   "execution_count": 2,
   "metadata": {},
   "outputs": [],
   "source": [
    "p_SO_O = 0.7\n",
    "p_SC_O = 0.3\n",
    "p_SO_C = 0.2\n",
    "p_SC_C = 0.8\n",
    "\n",
    "# initial prob\n",
    "p_O = 0.5\n",
    "p_C = 0.5"
   ]
  },
  {
   "cell_type": "markdown",
   "metadata": {},
   "source": [
    "### Bayes Rule\n",
    "\n",
    "$$\n",
    "p(x_j|z) = \\frac{p(z|x_i)p(x_j)}{\\sum_{i=1}^n p(z|x_i)p(x_i)} = \\eta\\ \\cdot p(z|x_j)p(x_j)\n",
    "$$"
   ]
  },
  {
   "cell_type": "markdown",
   "metadata": {},
   "source": [
    "우리가 구할것 $\\to$ $p(O|SO)$"
   ]
  },
  {
   "cell_type": "code",
   "execution_count": 3,
   "metadata": {},
   "outputs": [
    {
     "name": "stdout",
     "output_type": "stream",
     "text": [
      "p(open|sensor_open) = 0.7777777777777778\n",
      "p(closed|sensor_open) = 0.22222222222222224\n"
     ]
    }
   ],
   "source": [
    "p_O_SO = p_SO_O * p_O\n",
    "p_C_SO = p_SO_C * p_C\n",
    "\n",
    "eta = 1 / (p_O_SO + p_C_SO)\n",
    "\n",
    "p_O_SO = eta * p_O_SO\n",
    "p_C_SO = eta * p_C_SO\n",
    "\n",
    "print(\"p(open|sensor_open) = \" + str(p_O_SO))\n",
    "print(\"p(closed|sensor_open) = \" + str(p_C_SO))"
   ]
  },
  {
   "cell_type": "markdown",
   "metadata": {},
   "source": [
    "그렇다면 이제 센서의 관측이 2번 문이 열려있다고 하는 경우를 보자\n",
    "\n",
    "$$\n",
    "p(\\text{open} | \\text{sensor{\\_}open , sensor{\\_}open})\n",
    "$$"
   ]
  },
  {
   "cell_type": "markdown",
   "metadata": {},
   "source": [
    "그리고 센서의 성능이 약간 향상되어 성능이 올라갔다고 가정한다"
   ]
  },
  {
   "cell_type": "code",
   "execution_count": 4,
   "metadata": {},
   "outputs": [],
   "source": [
    "p_SO_O = 0.75\n",
    "p_SC_O = 0.25\n",
    "p_SO_C = 0.1\n",
    "p_SC_C =0.9\n",
    "\n",
    "p_O = 1/3\n",
    "p_C = 2/3"
   ]
  },
  {
   "cell_type": "code",
   "execution_count": 5,
   "metadata": {},
   "outputs": [
    {
     "name": "stdout",
     "output_type": "stream",
     "text": [
      "p(open|sensor_open) = 0.7894736842105263\n",
      "p(closed|sensor_open) = 0.21052631578947367\n"
     ]
    }
   ],
   "source": [
    "p_O_SO = p_SO_O * p_O\n",
    "p_C_SO = p_SO_C * p_C\n",
    "\n",
    "eta = 1 / (p_O_SO + p_C_SO)\n",
    "\n",
    "p_O_SO = eta * p_O_SO\n",
    "p_C_SO = eta * p_C_SO\n",
    "\n",
    "print(\"p(open|sensor_open) = \" + str(p_O_SO))\n",
    "print(\"p(closed|sensor_open) = \" + str(p_C_SO))"
   ]
  },
  {
   "cell_type": "code",
   "execution_count": 6,
   "metadata": {},
   "outputs": [
    {
     "name": "stdout",
     "output_type": "stream",
     "text": [
      "p(open|sensor_open, sensor_open) = 0.9656652360515022\n",
      "p(closed|sensor_open, sensor_open) = 0.03433476394849786\n"
     ]
    }
   ],
   "source": [
    "p_O_SO_SO = p_SO_O * p_O_SO\n",
    "p_C_SO_SO = p_SO_C * p_C_SO\n",
    "\n",
    "eta2 = 1 / (p_O_SO_SO + p_C_SO_SO)\n",
    "\n",
    "p_O_SO_SO = eta2 * p_O_SO_SO\n",
    "p_C_SO_SO = eta2 * p_C_SO_SO\n",
    "\n",
    "print(\"p(open|sensor_open, sensor_open) = \" + str(p_O_SO_SO))\n",
    "print(\"p(closed|sensor_open, sensor_open) = \" + str(p_C_SO_SO))"
   ]
  },
  {
   "cell_type": "markdown",
   "metadata": {},
   "source": [
    "## Bayes Estimation\n",
    "\n",
    "$$\n",
    "\\begin{aligned}\n",
    "p(x_0) = &\\;\\text{Typically assumped uniform distribution} \\\\\n",
    "p(x_1|z_1) = &\\;\\eta_1 \\ \\cdot p(z_1|x_1)\\sum_{x_0}p(x_1|x_0)p(x_0)\\\\\n",
    "p(x_2|,z_2,z_1) = &\\;\\eta_2 \\ \\cdot p(z_2|x_2)\\sum_{x_1}p(x_2|x_1)p(x_1|z_1)\\\\\n",
    "\\vdots  = & \\;\\vdots\\\\\n",
    "p(x_t|,z_t,z_{t-1},\\cdots,z_1) = &\\;\\eta_t \\ \\cdot p(z_t|x_t)\\sum_{x_{t-1}}p(x_t|x_{t-1})p(x_{t-1}|z_{t-1},z_{t-2},\\cdots,z_1)\\\\\n",
    "\n",
    "\\end{aligned}\n",
    "$$"
   ]
  },
  {
   "cell_type": "markdown",
   "metadata": {},
   "source": [
    "위의 식에서 control u를 식에 포함시키고,\n",
    "\n",
    "$$\n",
    "\\begin{aligned}\n",
    "p(x_t|z_t,\\cdots,z_1,u_t,\\cdots,u_1) &= \\eta_t \\cdot p(z_t|x_t,u_t)\\sum_{x_{t-1}}p(x_t|x_{t-1},u_t)p(x_{t-1}|z_{t-1},\\cdots,z_1,u_{t-1},\\cdots,u_1)\\\\\n",
    "& = \\eta_t \\cdot p(z_t|x_t)\\sum_{x_{t-1}}p(x_t|x_{t-1},u_t)p(x_{t-1}|z_{t-1},\\cdots,z_1,u_{t-1},\\cdots,u_1)\n",
    "\\end{aligned}\n",
    "$$\n",
    "\n",
    "$bel$을 써서 식을 정리하면 다음과 같다.\n",
    "\n",
    "$$\n",
    "\\begin{aligned}\n",
    "\\overline{bel}(x_t) & = \\sum_{x_{t-1}}p(x_t|x_{t-1},u_t)p(x_{t-1}|z_1,\\cdots,z{t-1},u1,\\cdots,u_{t-1})\\\\\n",
    "& = \\sum_{x_{t-1}}p(x_t|x_{t-1},u_t)bel(x_{t-1})\n",
    "\\end{aligned}\n",
    "$$"
   ]
  },
  {
   "cell_type": "markdown",
   "metadata": {},
   "source": [
    "그리고 두 식은 다음처럼 하나의 recursive한 형태로 정리된다.\n",
    "\n",
    "$$\n",
    "bel(x_t) = \\eta_t \\cdot p(z_t|x_t) \\cdot \\sum_{x_{t-1}}p(x_t|x_{t-1},u_t)bel(x_{t-1})\n",
    "$$"
   ]
  },
  {
   "cell_type": "markdown",
   "metadata": {},
   "source": []
  }
 ],
 "metadata": {
  "kernelspec": {
   "display_name": "Python 3",
   "language": "python",
   "name": "python3"
  },
  "language_info": {
   "codemirror_mode": {
    "name": "ipython",
    "version": 3
   },
   "file_extension": ".py",
   "mimetype": "text/x-python",
   "name": "python",
   "nbconvert_exporter": "python",
   "pygments_lexer": "ipython3",
   "version": "3.9.5"
  }
 },
 "nbformat": 4,
 "nbformat_minor": 2
}

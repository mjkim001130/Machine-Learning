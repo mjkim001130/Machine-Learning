{
 "cells": [
  {
   "cell_type": "code",
   "execution_count": 17,
   "metadata": {},
   "outputs": [],
   "source": [
    "import numpy as np\n",
    "import matplotlib.pyplot as plt\n",
    "from tqdm import tqdm"
   ]
  },
  {
   "cell_type": "code",
   "execution_count": 18,
   "metadata": {},
   "outputs": [],
   "source": [
    "X = np.array([[-1, -1], [-1, 1], [1, -1], [1, 1]])\n",
    "Y = np.array([[0], [1], [1], [0]])"
   ]
  },
  {
   "cell_type": "code",
   "execution_count": 19,
   "metadata": {},
   "outputs": [],
   "source": [
    "def tanh(x):\n",
    "    return np.tanh(x)\n",
    "\n",
    "def tanh_derivative(x):\n",
    "    return 1 - np.tanh(x)**2\n",
    "\n",
    "def MSE(y, y_hat):\n",
    "    return np.mean((y - y_hat)**2)"
   ]
  },
  {
   "cell_type": "code",
   "execution_count": 20,
   "metadata": {},
   "outputs": [
    {
     "name": "stderr",
     "output_type": "stream",
     "text": [
      "100%|██████████| 10000/10000 [00:00<00:00, 12733.02it/s]\n"
     ]
    }
   ],
   "source": [
    "W1 = np.random.randn(2, 2)\n",
    "b1 = np.random.randn(1, 2)\n",
    "W2 = np.random.randn(2, 3)\n",
    "b2 = np.random.randn(1, 3)\n",
    "W3 = np.random.randn(3, 1)\n",
    "b3 = np.random.randn(1, 1)\n",
    "\n",
    "eta = 0.1\n",
    "epochs = 10000\n",
    "\n",
    "for _ in tqdm(range(epochs)):\n",
    "    # 순전파\n",
    "    z1 = np.dot(X, W1) + b1\n",
    "    a1 = tanh(z1)\n",
    "    z2 = np.dot(a1, W2) + b2\n",
    "    a2 = tanh(z2)\n",
    "    z3 = np.dot(a2, W3) + b3\n",
    "    a3 = tanh(z3)\n",
    "    Y_hat = a3\n",
    "\n",
    "    L = MSE(Y, Y_hat)\n",
    "\n",
    "    # 역전파\n",
    "    dLde = Y - Y_hat\n",
    "    deda3 = -1 * np.ones((4, 1))\n",
    "    da3dz3 = tanh_derivative(z3)\n",
    "    dz3dW3 = a2\n",
    "    dz3db3 = np.ones((4, 1))\n",
    "    delta3 = dLde * deda3 * da3dz3\n",
    "    delta3 = -1 * delta3\n",
    "    dLdW3 = np.dot(dz3dW3.T, delta3)\n",
    "    dLdb3 = np.dot(dz3db3.T, delta3)\n",
    "\n",
    "    da2dz2 = tanh_derivative(z2)\n",
    "    delta2 = np.dot(delta3, W3.T) * da2dz2\n",
    "\n",
    "    dz2dW2 = a1\n",
    "    dz2db2 = np.ones((4, 1))\n",
    "    dLdW2 = np.dot(dz2dW2.T, delta2)\n",
    "    dLdb2 = np.dot(dz2db2.T, delta2)\n",
    "\n",
    "    da1dz1 = tanh_derivative(z1)\n",
    "    delta1 = np.dot(delta2, W2.T) * da1dz1\n",
    "    dz1dW1 = X\n",
    "    dz1db1 = np.ones((4, 1))\n",
    "    dLdW1 = np.dot(dz1dW1.T, delta1)\n",
    "    dLdb1 = np.dot(dz1db1.T, delta1)\n",
    "\n",
    "    W3 = W3 + eta * dLdW3\n",
    "    b3 = b3 + eta * dLdb3\n",
    "    W2 = W2 + eta * dLdW2\n",
    "    b2 = b2 + eta * dLdb2\n",
    "    W1 = W1 + eta * dLdW1\n",
    "    b1 = b1 + eta * dLdb1"
   ]
  },
  {
   "cell_type": "code",
   "execution_count": 24,
   "metadata": {},
   "outputs": [
    {
     "name": "stdout",
     "output_type": "stream",
     "text": [
      "[[0 1 1 0]]\n"
     ]
    }
   ],
   "source": [
    "print((Y_hat > 0.5).astype(int).T)"
   ]
  },
  {
   "cell_type": "code",
   "execution_count": 26,
   "metadata": {},
   "outputs": [
    {
     "data": {
      "image/png": "[encoded data removed]",
      "text/plain": [
       "<Figure size 432x288 with 1 Axes>"
      ]
     },
     "metadata": {
      "needs_background": "light"
     },
     "output_type": "display_data"
    }
   ],
   "source": [
    "def forward(X, W1, b1, W2, b2, W3, b3):\n",
    "    z1 = np.dot(X, W1) + b1\n",
    "    a1 = tanh(z1)\n",
    "    z2 = np.dot(a1, W2) + b2\n",
    "    a2 = tanh(z2)\n",
    "    z3 = np.dot(a2, W3) + b3\n",
    "    a3 = tanh(z3)\n",
    "    Y_hat = a3\n",
    "    return Y_hat\n",
    "\n",
    "num_of_samples = 40\n",
    "(m, n) = X.shape\n",
    "\n",
    "x1_min = -1.2\n",
    "x1_max = 1.2\n",
    "x2_min = -1.2\n",
    "x2_max = 1.2\n",
    "\n",
    "x1 = np.linspace(x1_min, x1_max, num_of_samples)\n",
    "x2 = np.linspace(x2_min, x2_max, num_of_samples)\n",
    "\n",
    "X_new = np.ones((num_of_samples ** 2, n))\n",
    "for i in range(num_of_samples):\n",
    "    for j in range(num_of_samples):\n",
    "        X_new[i * num_of_samples + j, 0] = x1[i]\n",
    "        X_new[i * num_of_samples + j, 1] = x2[j]\n",
    "\n",
    "Y_hat = forward(X_new, W1, b1, W2, b2, W3, b3)\n",
    "Y_hat = np.reshape((Y_hat > 0.5).astype(int), (num_of_samples ** 2))\n",
    "plt.plot(X_new[Y_hat == 0][:, 0], X_new[Y_hat == 0][:, 1], 'r.', markersize = 4)\n",
    "\n",
    "plt.plot(X[0::3, 0], X[0::3, 1], 'r.', markersize=20, label = \"False\")\n",
    "plt.plot(X[1:3, 0], X[1:3, 1], 'b.', markersize=20, label = \"True\")\\\n",
    "\n",
    "plt.xlim(x1_min, x1_max)\n",
    "plt.ylim(x2_min, x2_max)\n",
    "plt.grid()\n",
    "plt.xlabel(\"x1\")\n",
    "plt.ylabel(\"x2\")\n",
    "plt.legend()\n",
    "plt.show()"
   ]
  },
  {
   "cell_type": "code",
   "execution_count": null,
   "metadata": {},
   "outputs": [],
   "source": []
  }
 ],
 "metadata": {
  "kernelspec": {
   "display_name": "Python 3",
   "language": "python",
   "name": "python3"
  },
  "language_info": {
   "codemirror_mode": {
    "name": "ipython",
    "version": 3
   },
   "file_extension": ".py",
   "mimetype": "text/x-python",
   "name": "python",
   "nbconvert_exporter": "python",
   "pygments_lexer": "ipython3",
   "version": "3.9.5"
  }
 },
 "nbformat": 4,
 "nbformat_minor": 2
}

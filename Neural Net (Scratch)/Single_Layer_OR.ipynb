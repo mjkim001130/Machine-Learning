{
 "cells": [
  {
   "cell_type": "markdown",
   "metadata": {},
   "source": [
    "### 1. 단층 신경망을 통하여 Logical OR 연산 구현"
   ]
  },
  {
   "cell_type": "code",
   "execution_count": 3,
   "metadata": {},
   "outputs": [],
   "source": [
    "import numpy as np\n",
    "import matplotlib.pyplot as plt\n",
    "from tqdm import tqdm"
   ]
  },
  {
   "cell_type": "code",
   "execution_count": 4,
   "metadata": {},
   "outputs": [
    {
     "data": {
      "image/png": "[encoded data removed]",
      "text/plain": [
       "<Figure size 432x288 with 1 Axes>"
      ]
     },
     "metadata": {
      "needs_background": "light"
     },
     "output_type": "display_data"
    }
   ],
   "source": [
    "X = np.array([[0, 0], [0, 1], [1, 0], [1, 1]])\n",
    "Y = np.array([[0], [1], [1], [1]])\n",
    "\n",
    "plt.plot(X[0, 0], X[0, 1], 'r.', markersize=20, label = \"False\")\n",
    "plt.plot(X[1:, 0], X[1:, 1], 'b.', markersize=20, label = \"True\")\n",
    "plt.xlim(-0.5, 1.5)\n",
    "plt.ylim(-0.5, 1.5)\n",
    "plt.grid()\n",
    "plt.xlabel(\"x1\")\n",
    "plt.ylabel(\"x2\")\n",
    "plt.legend()\n",
    "plt.show()"
   ]
  },
  {
   "cell_type": "code",
   "execution_count": 5,
   "metadata": {},
   "outputs": [],
   "source": [
    "def sigmoid(z):\n",
    "    return 1 / (1 + np.exp(-z))"
   ]
  },
  {
   "cell_type": "code",
   "execution_count": 6,
   "metadata": {},
   "outputs": [],
   "source": [
    "def binary_classifier(x, theta):\n",
    "    z = x.dot(theta)\n",
    "    p_hat = sigmoid(z)\n",
    "    y_hat = (p_hat >= 0.5).astype(int)\n",
    "    return y_hat"
   ]
  },
  {
   "cell_type": "code",
   "execution_count": 7,
   "metadata": {},
   "outputs": [
    {
     "name": "stdout",
     "output_type": "stream",
     "text": [
      "[[1. 0. 0.]\n",
      " [1. 0. 1.]\n",
      " [1. 1. 0.]\n",
      " [1. 1. 1.]]\n",
      "[[0]\n",
      " [1]\n",
      " [1]\n",
      " [1]]\n"
     ]
    }
   ],
   "source": [
    "X_ = np.c_[np.ones(X.shape[0]), X]\n",
    "print(X_)\n",
    "print(Y)"
   ]
  },
  {
   "cell_type": "code",
   "execution_count": 8,
   "metadata": {},
   "outputs": [
    {
     "name": "stderr",
     "output_type": "stream",
     "text": [
      "100%|██████████| 1000/1000 [00:00<00:00, 76920.19it/s]\n"
     ]
    }
   ],
   "source": [
    "eta = 0.1\n",
    "n_iterations = 1000\n",
    "(m, n) = X_.shape\n",
    "theta = np.random.rand(n, 1)\n",
    "\n",
    "for i in tqdm(range(n_iterations)):\n",
    "    P_hat = sigmoid(X_.dot(theta))\n",
    "    gradients = 2/m * X_.T.dot(P_hat - Y)\n",
    "    theta -= eta * gradients"
   ]
  },
  {
   "cell_type": "code",
   "execution_count": 9,
   "metadata": {},
   "outputs": [
    {
     "name": "stdout",
     "output_type": "stream",
     "text": [
      "[[0 1 1 1]]\n",
      "[[0 1 1 1]]\n"
     ]
    }
   ],
   "source": [
    "Y_hat = binary_classifier(X_, theta)\n",
    "print(Y_hat.T)\n",
    "print(Y.T)"
   ]
  },
  {
   "cell_type": "code",
   "execution_count": 10,
   "metadata": {},
   "outputs": [
    {
     "data": {
      "image/png": "[encoded data removed]",
      "text/plain": [
       "<Figure size 432x288 with 1 Axes>"
      ]
     },
     "metadata": {
      "needs_background": "light"
     },
     "output_type": "display_data"
    }
   ],
   "source": [
    "num_of_samples = 30\n",
    "(m, n) = X_.shape # m : num of data / n : dim of data\n",
    "\n",
    "x1_min = -0.2\n",
    "x1_max = 1.2\n",
    "x2_min = -0.2\n",
    "x2_max = 1.2\n",
    "\n",
    "x1 = np.linspace(x1_min, x1_max, num_of_samples)\n",
    "x2 = np.linspace(x2_min, x2_max, num_of_samples)\n",
    "\n",
    "X_new = np.ones((num_of_samples**2 , n))\n",
    "for i in range(num_of_samples):\n",
    "  for j in range(num_of_samples):\n",
    "    X_new[i*num_of_samples + j, 0] = 1\n",
    "    X_new[i*num_of_samples + j, 1] = x1[i]\n",
    "    X_new[i*num_of_samples + j, 2] = x2[j]\n",
    "\n",
    "Y_hat = binary_classifier(X_new, theta)\n",
    "Y_hat = np.reshape(Y_hat, (num_of_samples**2))\n",
    "plt.plot(X_new[Y_hat == 1][:, 1], X_new[Y_hat == 1][:, 2], 'g.', markersize = 4)\n",
    "\n",
    "idx1 = np.where(X_new[Y_hat == 1][:, 1] == min(X_new[Y_hat == 1][:, 1]))[0][0]\n",
    "idx2 = np.where(X_new[Y_hat == 1][:, 1] == max(X_new[Y_hat == 1][:, 1]))[0][0]\n",
    "plt.plot([X_new[Y_hat == 1][:, 1][idx1], X_new[Y_hat == 1][:, 2][idx1]], [X_new[Y_hat == 1][:, 2][idx1], X_new[Y_hat == 1][:, 1][idx1]], 'r--')\n",
    "\n",
    "plt.plot(X[0, 0], X[0, 1], 'r.', markersize=20, label = \"False\")\n",
    "plt.plot(X[1:, 0], X[1:, 1], 'b.', markersize=20, label = \"True\")\n",
    "\n",
    "plt.xlim(x1_min, x1_max)\n",
    "plt.ylim(x2_min, x2_max)\n",
    "plt.grid()\n",
    "plt.xlabel(\"x1\")\n",
    "plt.ylabel(\"x2\")\n",
    "plt.legend()\n",
    "plt.show()"
   ]
  },
  {
   "cell_type": "code",
   "execution_count": null,
   "metadata": {},
   "outputs": [],
   "source": []
  }
 ],
 "metadata": {
  "kernelspec": {
   "display_name": "Python 3",
   "language": "python",
   "name": "python3"
  },
  "language_info": {
   "codemirror_mode": {
    "name": "ipython",
    "version": 3
   },
   "file_extension": ".py",
   "mimetype": "text/x-python",
   "name": "python",
   "nbconvert_exporter": "python",
   "pygments_lexer": "ipython3",
   "version": "3.9.5"
  }
 },
 "nbformat": 4,
 "nbformat_minor": 2
}
